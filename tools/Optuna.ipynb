{
 "cells": [
  {
   "cell_type": "code",
   "execution_count": 1,
   "metadata": {},
   "outputs": [],
   "source": [
    "import optuna\n",
    "import Score"
   ]
  },
  {
   "cell_type": "code",
   "execution_count": 2,
   "metadata": {},
   "outputs": [],
   "source": [
    "def objective(trial):\n",
    "    params=generate_params(trial)\n",
    "    return Score.execute(100,params)"
   ]
  },
  {
   "cell_type": "code",
   "execution_count": 3,
   "metadata": {},
   "outputs": [],
   "source": [
    "def generate_params(trial)->list:\n",
    "    min_all=trial.suggest_int('min_all',0,9)\n",
    "    kyuzitu=trial.suggest_int('kyuzitu',2,100)\n",
    "    params=[min_all,kyuzitu]\n",
    "    return params"
   ]
  },
  {
   "cell_type": "code",
   "execution_count": 4,
   "metadata": {},
   "outputs": [],
   "source": [
    "def output_params(params):\n",
    "    \n",
    "    for name,value in params.items():\n",
    "        type_name='int'\n",
    "        if isinstance(value, float):\n",
    "            type_name='double'\n",
    "        print('REGIST_PARAM','(',name,',',type_name,',',value,')')"
   ]
  },
  {
   "cell_type": "code",
   "execution_count": 6,
   "metadata": {},
   "outputs": [
    {
     "name": "stderr",
     "output_type": "stream",
     "text": [
      "\u001b[32m[I 2022-09-07 19:10:15,973]\u001b[0m A new study created in memory with name: no-name-bcfdd11b-3ab0-4abb-952e-fc031ab6944b\u001b[0m\n"
     ]
    },
    {
     "name": "stdout",
     "output_type": "stream",
     "text": [
      "unko\n",
      "core 18\n",
      "./judge \"./a.out  8 72\" <input/0000.txt >output/0000.txt\n",
      "./judge \"./a.out  8 72\" <input/0000.txt >output/0000.txt\n"
     ]
    },
    {
     "name": "stderr",
     "output_type": "stream",
     "text": [
      "\u001b[32m[I 2022-09-07 19:10:27,159]\u001b[0m Trial 0 finished with value: 309051286762.0 and parameters: {'min_all': 8, 'kyuzitu': 72}. Best is trial 0 with value: 309051286762.0.\u001b[0m\n"
     ]
    },
    {
     "name": "stdout",
     "output_type": "stream",
     "text": [
      "unko\n",
      "core 18\n",
      "./judge \"./a.out  4 43\" <input/0000.txt >output/0000.txt\n",
      "./judge \"./a.out  4 43\" <input/0000.txt >output/0000.txt\n"
     ]
    },
    {
     "name": "stderr",
     "output_type": "stream",
     "text": [
      "\u001b[32m[I 2022-09-07 19:10:37,430]\u001b[0m Trial 1 finished with value: 311600248245.0 and parameters: {'min_all': 4, 'kyuzitu': 43}. Best is trial 1 with value: 311600248245.0.\u001b[0m\n"
     ]
    },
    {
     "name": "stdout",
     "output_type": "stream",
     "text": [
      "unko\n",
      "core 18\n",
      "./judge \"./a.out  4 96\" <input/0000.txt >output/0000.txt\n",
      "./judge \"./a.out  4 96\" <input/0000.txt >output/0000.txt\n"
     ]
    },
    {
     "name": "stderr",
     "output_type": "stream",
     "text": [
      "\u001b[32m[I 2022-09-07 19:10:47,611]\u001b[0m Trial 2 finished with value: 311600248245.0 and parameters: {'min_all': 4, 'kyuzitu': 96}. Best is trial 1 with value: 311600248245.0.\u001b[0m\n"
     ]
    },
    {
     "name": "stdout",
     "output_type": "stream",
     "text": [
      "unko\n",
      "core 18\n",
      "./judge \"./a.out  5 10\" <input/0000.txt >output/0000.txt\n",
      "./judge \"./a.out  5 10\" <input/0000.txt >output/0000.txt\n"
     ]
    },
    {
     "name": "stderr",
     "output_type": "stream",
     "text": [
      "\u001b[32m[I 2022-09-07 19:10:57,944]\u001b[0m Trial 3 finished with value: 311381589191.0 and parameters: {'min_all': 5, 'kyuzitu': 10}. Best is trial 1 with value: 311600248245.0.\u001b[0m\n"
     ]
    },
    {
     "name": "stdout",
     "output_type": "stream",
     "text": [
      "unko\n",
      "core 18\n",
      "./judge \"./a.out  3 10\" <input/0000.txt >output/0000.txt\n",
      "./judge \"./a.out  3 10\" <input/0000.txt >output/0000.txt\n"
     ]
    },
    {
     "name": "stderr",
     "output_type": "stream",
     "text": [
      "\u001b[32m[I 2022-09-07 19:11:08,311]\u001b[0m Trial 4 finished with value: 311458609466.0 and parameters: {'min_all': 3, 'kyuzitu': 10}. Best is trial 1 with value: 311600248245.0.\u001b[0m\n"
     ]
    },
    {
     "name": "stdout",
     "output_type": "stream",
     "text": [
      "unko\n",
      "core 18\n",
      "./judge \"./a.out  6 28\" <input/0000.txt >output/0000.txt\n",
      "./judge \"./a.out  6 28\" <input/0000.txt >output/0000.txt\n"
     ]
    },
    {
     "name": "stderr",
     "output_type": "stream",
     "text": [
      "\u001b[32m[I 2022-09-07 19:11:18,931]\u001b[0m Trial 5 finished with value: 311420466959.0 and parameters: {'min_all': 6, 'kyuzitu': 28}. Best is trial 1 with value: 311600248245.0.\u001b[0m\n"
     ]
    },
    {
     "name": "stdout",
     "output_type": "stream",
     "text": [
      "unko\n",
      "core 18\n",
      "./judge \"./a.out  4 100\" <input/0000.txt >output/0000.txt\n",
      "./judge \"./a.out  4 100\" <input/0000.txt >output/0000.txt\n"
     ]
    },
    {
     "name": "stderr",
     "output_type": "stream",
     "text": [
      "\u001b[32m[I 2022-09-07 19:11:29,540]\u001b[0m Trial 6 finished with value: 311600248245.0 and parameters: {'min_all': 4, 'kyuzitu': 100}. Best is trial 1 with value: 311600248245.0.\u001b[0m\n"
     ]
    },
    {
     "name": "stdout",
     "output_type": "stream",
     "text": [
      "unko\n",
      "core 18\n",
      "./judge \"./a.out  2 23\" <input/0000.txt >output/0000.txt\n",
      "./judge \"./a.out  2 23\" <input/0000.txt >output/0000.txt\n"
     ]
    },
    {
     "name": "stderr",
     "output_type": "stream",
     "text": [
      "\u001b[32m[I 2022-09-07 19:11:40,611]\u001b[0m Trial 7 finished with value: 311603076558.0 and parameters: {'min_all': 2, 'kyuzitu': 23}. Best is trial 7 with value: 311603076558.0.\u001b[0m\n"
     ]
    },
    {
     "name": "stdout",
     "output_type": "stream",
     "text": [
      "unko\n",
      "core 18\n",
      "./judge \"./a.out  3 18\" <input/0000.txt >output/0000.txt\n",
      "./judge \"./a.out  3 18\" <input/0000.txt >output/0000.txt\n"
     ]
    },
    {
     "name": "stderr",
     "output_type": "stream",
     "text": [
      "\u001b[32m[I 2022-09-07 19:11:51,927]\u001b[0m Trial 8 finished with value: 311604310867.0 and parameters: {'min_all': 3, 'kyuzitu': 18}. Best is trial 8 with value: 311604310867.0.\u001b[0m\n"
     ]
    },
    {
     "name": "stdout",
     "output_type": "stream",
     "text": [
      "unko\n",
      "core 18\n",
      "./judge \"./a.out  0 78\" <input/0000.txt >output/0000.txt\n",
      "./judge \"./a.out  0 78\" <input/0000.txt >output/0000.txt\n"
     ]
    },
    {
     "name": "stderr",
     "output_type": "stream",
     "text": [
      "\u001b[32m[I 2022-09-07 19:12:04,105]\u001b[0m Trial 9 finished with value: 311580744867.0 and parameters: {'min_all': 0, 'kyuzitu': 78}. Best is trial 8 with value: 311604310867.0.\u001b[0m\n"
     ]
    },
    {
     "name": "stdout",
     "output_type": "stream",
     "text": [
      "unko\n",
      "core 18\n",
      "./judge \"./a.out  0 48\" <input/0000.txt >output/0000.txt\n",
      "./judge \"./a.out  0 48\" <input/0000.txt >output/0000.txt\n"
     ]
    },
    {
     "name": "stderr",
     "output_type": "stream",
     "text": [
      "\u001b[32m[I 2022-09-07 19:12:16,218]\u001b[0m Trial 10 finished with value: 311580744867.0 and parameters: {'min_all': 0, 'kyuzitu': 48}. Best is trial 8 with value: 311604310867.0.\u001b[0m\n"
     ]
    },
    {
     "name": "stdout",
     "output_type": "stream",
     "text": [
      "unko\n",
      "core 18\n",
      "./judge \"./a.out  2 27\" <input/0000.txt >output/0000.txt\n",
      "./judge \"./a.out  2 27\" <input/0000.txt >output/0000.txt\n"
     ]
    },
    {
     "name": "stderr",
     "output_type": "stream",
     "text": [
      "\u001b[32m[I 2022-09-07 19:12:28,546]\u001b[0m Trial 11 finished with value: 311658094539.0 and parameters: {'min_all': 2, 'kyuzitu': 27}. Best is trial 11 with value: 311658094539.0.\u001b[0m\n"
     ]
    },
    {
     "name": "stdout",
     "output_type": "stream",
     "text": [
      "unko\n",
      "core 18\n",
      "./judge \"./a.out  2 30\" <input/0000.txt >output/0000.txt\n",
      "./judge \"./a.out  2 30\" <input/0000.txt >output/0000.txt\n"
     ]
    },
    {
     "name": "stderr",
     "output_type": "stream",
     "text": [
      "\u001b[32m[I 2022-09-07 19:12:40,341]\u001b[0m Trial 12 finished with value: 311580744867.0 and parameters: {'min_all': 2, 'kyuzitu': 30}. Best is trial 11 with value: 311658094539.0.\u001b[0m\n"
     ]
    },
    {
     "name": "stdout",
     "output_type": "stream",
     "text": [
      "unko\n",
      "core 18\n",
      "./judge \"./a.out  2 3\" <input/0000.txt >output/0000.txt\n",
      "./judge \"./a.out  2 3\" <input/0000.txt >output/0000.txt\n"
     ]
    },
    {
     "name": "stderr",
     "output_type": "stream",
     "text": [
      "\u001b[32m[I 2022-09-07 19:12:51,826]\u001b[0m Trial 13 finished with value: 307400805105.0 and parameters: {'min_all': 2, 'kyuzitu': 3}. Best is trial 11 with value: 311658094539.0.\u001b[0m\n"
     ]
    },
    {
     "name": "stdout",
     "output_type": "stream",
     "text": [
      "unko\n",
      "core 18\n",
      "./judge \"./a.out  7 36\" <input/0000.txt >output/0000.txt\n",
      "./judge \"./a.out  7 36\" <input/0000.txt >output/0000.txt\n"
     ]
    },
    {
     "name": "stderr",
     "output_type": "stream",
     "text": [
      "\u001b[32m[I 2022-09-07 19:13:03,764]\u001b[0m Trial 14 finished with value: 310804925499.0 and parameters: {'min_all': 7, 'kyuzitu': 36}. Best is trial 11 with value: 311658094539.0.\u001b[0m\n"
     ]
    },
    {
     "name": "stdout",
     "output_type": "stream",
     "text": [
      "unko\n",
      "core 18\n",
      "./judge \"./a.out  1 56\" <input/0000.txt >output/0000.txt\n",
      "./judge \"./a.out  1 56\" <input/0000.txt >output/0000.txt\n"
     ]
    },
    {
     "name": "stderr",
     "output_type": "stream",
     "text": [
      "\u001b[32m[I 2022-09-07 19:13:15,811]\u001b[0m Trial 15 finished with value: 311580744867.0 and parameters: {'min_all': 1, 'kyuzitu': 56}. Best is trial 11 with value: 311658094539.0.\u001b[0m\n"
     ]
    },
    {
     "name": "stdout",
     "output_type": "stream",
     "text": [
      "unko\n",
      "core 18\n",
      "./judge \"./a.out  3 17\" <input/0000.txt >output/0000.txt\n",
      "./judge \"./a.out  3 17\" <input/0000.txt >output/0000.txt\n"
     ]
    },
    {
     "name": "stderr",
     "output_type": "stream",
     "text": [
      "\u001b[32m[I 2022-09-07 19:13:28,036]\u001b[0m Trial 16 finished with value: 311536463314.0 and parameters: {'min_all': 3, 'kyuzitu': 17}. Best is trial 11 with value: 311658094539.0.\u001b[0m\n"
     ]
    },
    {
     "name": "stdout",
     "output_type": "stream",
     "text": [
      "unko\n",
      "core 18\n",
      "./judge \"./a.out  9 58\" <input/0000.txt >output/0000.txt\n",
      "./judge \"./a.out  9 58\" <input/0000.txt >output/0000.txt\n"
     ]
    },
    {
     "name": "stderr",
     "output_type": "stream",
     "text": [
      "\u001b[32m[I 2022-09-07 19:13:40,131]\u001b[0m Trial 17 finished with value: 309441424350.0 and parameters: {'min_all': 9, 'kyuzitu': 58}. Best is trial 11 with value: 311658094539.0.\u001b[0m\n"
     ]
    },
    {
     "name": "stdout",
     "output_type": "stream",
     "text": [
      "unko\n",
      "core 18\n",
      "./judge \"./a.out  6 36\" <input/0000.txt >output/0000.txt\n",
      "./judge \"./a.out  6 36\" <input/0000.txt >output/0000.txt\n"
     ]
    },
    {
     "name": "stderr",
     "output_type": "stream",
     "text": [
      "\u001b[32m[I 2022-09-07 19:13:51,847]\u001b[0m Trial 18 finished with value: 311420466959.0 and parameters: {'min_all': 6, 'kyuzitu': 36}. Best is trial 11 with value: 311658094539.0.\u001b[0m\n"
     ]
    },
    {
     "name": "stdout",
     "output_type": "stream",
     "text": [
      "unko\n",
      "core 18\n",
      "./judge \"./a.out  1 19\" <input/0000.txt >output/0000.txt\n",
      "./judge \"./a.out  1 19\" <input/0000.txt >output/0000.txt\n"
     ]
    },
    {
     "name": "stderr",
     "output_type": "stream",
     "text": [
      "\u001b[32m[I 2022-09-07 19:14:03,523]\u001b[0m Trial 19 finished with value: 311559024326.0 and parameters: {'min_all': 1, 'kyuzitu': 19}. Best is trial 11 with value: 311658094539.0.\u001b[0m\n"
     ]
    },
    {
     "name": "stdout",
     "output_type": "stream",
     "text": [
      "unko\n",
      "core 18\n",
      "./judge \"./a.out  3 3\" <input/0000.txt >output/0000.txt\n",
      "./judge \"./a.out  3 3\" <input/0000.txt >output/0000.txt\n"
     ]
    },
    {
     "name": "stderr",
     "output_type": "stream",
     "text": [
      "\u001b[32m[I 2022-09-07 19:14:15,020]\u001b[0m Trial 20 finished with value: 307400805105.0 and parameters: {'min_all': 3, 'kyuzitu': 3}. Best is trial 11 with value: 311658094539.0.\u001b[0m\n"
     ]
    },
    {
     "name": "stdout",
     "output_type": "stream",
     "text": [
      "unko\n",
      "core 18\n",
      "./judge \"./a.out  2 23\" <input/0000.txt >output/0000.txt\n",
      "./judge \"./a.out  2 23\" <input/0000.txt >output/0000.txt\n"
     ]
    },
    {
     "name": "stderr",
     "output_type": "stream",
     "text": [
      "\u001b[32m[I 2022-09-07 19:14:26,703]\u001b[0m Trial 21 finished with value: 311603076558.0 and parameters: {'min_all': 2, 'kyuzitu': 23}. Best is trial 11 with value: 311658094539.0.\u001b[0m\n"
     ]
    },
    {
     "name": "stdout",
     "output_type": "stream",
     "text": [
      "unko\n",
      "core 18\n",
      "./judge \"./a.out  1 13\" <input/0000.txt >output/0000.txt\n",
      "./judge \"./a.out  1 13\" <input/0000.txt >output/0000.txt\n"
     ]
    },
    {
     "name": "stderr",
     "output_type": "stream",
     "text": [
      "\u001b[32m[I 2022-09-07 19:14:38,283]\u001b[0m Trial 22 finished with value: 311458609466.0 and parameters: {'min_all': 1, 'kyuzitu': 13}. Best is trial 11 with value: 311658094539.0.\u001b[0m\n"
     ]
    },
    {
     "name": "stdout",
     "output_type": "stream",
     "text": [
      "unko\n",
      "core 18\n",
      "./judge \"./a.out  2 26\" <input/0000.txt >output/0000.txt\n",
      "./judge \"./a.out  2 26\" <input/0000.txt >output/0000.txt\n"
     ]
    },
    {
     "name": "stderr",
     "output_type": "stream",
     "text": [
      "\u001b[32m[I 2022-09-07 19:14:49,951]\u001b[0m Trial 23 finished with value: 311658094539.0 and parameters: {'min_all': 2, 'kyuzitu': 26}. Best is trial 11 with value: 311658094539.0.\u001b[0m\n"
     ]
    },
    {
     "name": "stdout",
     "output_type": "stream",
     "text": [
      "unko\n",
      "core 18\n",
      "./judge \"./a.out  3 36\" <input/0000.txt >output/0000.txt\n",
      "./judge \"./a.out  3 36\" <input/0000.txt >output/0000.txt\n"
     ]
    },
    {
     "name": "stderr",
     "output_type": "stream",
     "text": [
      "\u001b[32m[I 2022-09-07 19:15:01,958]\u001b[0m Trial 24 finished with value: 311580744867.0 and parameters: {'min_all': 3, 'kyuzitu': 36}. Best is trial 11 with value: 311658094539.0.\u001b[0m\n"
     ]
    },
    {
     "name": "stdout",
     "output_type": "stream",
     "text": [
      "unko\n",
      "core 18\n",
      "./judge \"./a.out  5 45\" <input/0000.txt >output/0000.txt\n",
      "./judge \"./a.out  5 45\" <input/0000.txt >output/0000.txt\n"
     ]
    },
    {
     "name": "stderr",
     "output_type": "stream",
     "text": [
      "\u001b[32m[I 2022-09-07 19:15:13,745]\u001b[0m Trial 25 finished with value: 311598411086.0 and parameters: {'min_all': 5, 'kyuzitu': 45}. Best is trial 11 with value: 311658094539.0.\u001b[0m\n"
     ]
    },
    {
     "name": "stdout",
     "output_type": "stream",
     "text": [
      "unko\n",
      "core 18\n",
      "./judge \"./a.out  1 30\" <input/0000.txt >output/0000.txt\n",
      "./judge \"./a.out  1 30\" <input/0000.txt >output/0000.txt\n"
     ]
    },
    {
     "name": "stderr",
     "output_type": "stream",
     "text": [
      "\u001b[32m[I 2022-09-07 19:15:25,814]\u001b[0m Trial 26 finished with value: 311580744867.0 and parameters: {'min_all': 1, 'kyuzitu': 30}. Best is trial 11 with value: 311658094539.0.\u001b[0m\n"
     ]
    },
    {
     "name": "stdout",
     "output_type": "stream",
     "text": [
      "unko\n",
      "core 18\n",
      "./judge \"./a.out  0 64\" <input/0000.txt >output/0000.txt\n",
      "./judge \"./a.out  0 64\" <input/0000.txt >output/0000.txt\n"
     ]
    },
    {
     "name": "stderr",
     "output_type": "stream",
     "text": [
      "\u001b[32m[I 2022-09-07 19:15:37,712]\u001b[0m Trial 27 finished with value: 311580744867.0 and parameters: {'min_all': 0, 'kyuzitu': 64}. Best is trial 11 with value: 311658094539.0.\u001b[0m\n"
     ]
    },
    {
     "name": "stdout",
     "output_type": "stream",
     "text": [
      "unko\n",
      "core 18\n",
      "./judge \"./a.out  3 40\" <input/0000.txt >output/0000.txt\n",
      "./judge \"./a.out  3 40\" <input/0000.txt >output/0000.txt\n"
     ]
    },
    {
     "name": "stderr",
     "output_type": "stream",
     "text": [
      "\u001b[32m[I 2022-09-07 19:15:49,884]\u001b[0m Trial 28 finished with value: 311580744867.0 and parameters: {'min_all': 3, 'kyuzitu': 40}. Best is trial 11 with value: 311658094539.0.\u001b[0m\n"
     ]
    },
    {
     "name": "stdout",
     "output_type": "stream",
     "text": [
      "unko\n",
      "core 18\n",
      "./judge \"./a.out  2 23\" <input/0000.txt >output/0000.txt\n",
      "./judge \"./a.out  2 23\" <input/0000.txt >output/0000.txt\n"
     ]
    },
    {
     "name": "stderr",
     "output_type": "stream",
     "text": [
      "\u001b[32m[I 2022-09-07 19:16:01,479]\u001b[0m Trial 29 finished with value: 311603076558.0 and parameters: {'min_all': 2, 'kyuzitu': 23}. Best is trial 11 with value: 311658094539.0.\u001b[0m\n"
     ]
    },
    {
     "name": "stdout",
     "output_type": "stream",
     "text": [
      "unko\n",
      "core 18\n",
      "./judge \"./a.out  4 71\" <input/0000.txt >output/0000.txt\n",
      "./judge \"./a.out  4 71\" <input/0000.txt >output/0000.txt\n"
     ]
    },
    {
     "name": "stderr",
     "output_type": "stream",
     "text": [
      "\u001b[32m[I 2022-09-07 19:16:13,485]\u001b[0m Trial 30 finished with value: 311600248245.0 and parameters: {'min_all': 4, 'kyuzitu': 71}. Best is trial 11 with value: 311658094539.0.\u001b[0m\n"
     ]
    },
    {
     "name": "stdout",
     "output_type": "stream",
     "text": [
      "unko\n",
      "core 18\n",
      "./judge \"./a.out  2 24\" <input/0000.txt >output/0000.txt\n",
      "./judge \"./a.out  2 24\" <input/0000.txt >output/0000.txt\n"
     ]
    },
    {
     "name": "stderr",
     "output_type": "stream",
     "text": [
      "\u001b[32m[I 2022-09-07 19:16:25,563]\u001b[0m Trial 31 finished with value: 311658094539.0 and parameters: {'min_all': 2, 'kyuzitu': 24}. Best is trial 11 with value: 311658094539.0.\u001b[0m\n"
     ]
    },
    {
     "name": "stdout",
     "output_type": "stream",
     "text": [
      "unko\n",
      "core 18\n",
      "./judge \"./a.out  1 16\" <input/0000.txt >output/0000.txt\n",
      "./judge \"./a.out  1 16\" <input/0000.txt >output/0000.txt\n"
     ]
    },
    {
     "name": "stderr",
     "output_type": "stream",
     "text": [
      "\u001b[32m[I 2022-09-07 19:16:37,435]\u001b[0m Trial 32 finished with value: 311542388681.0 and parameters: {'min_all': 1, 'kyuzitu': 16}. Best is trial 11 with value: 311658094539.0.\u001b[0m\n"
     ]
    },
    {
     "name": "stdout",
     "output_type": "stream",
     "text": [
      "unko\n",
      "core 18\n",
      "./judge \"./a.out  2 28\" <input/0000.txt >output/0000.txt\n",
      "./judge \"./a.out  2 28\" <input/0000.txt >output/0000.txt\n"
     ]
    },
    {
     "name": "stderr",
     "output_type": "stream",
     "text": [
      "\u001b[32m[I 2022-09-07 19:16:49,324]\u001b[0m Trial 33 finished with value: 311660467368.0 and parameters: {'min_all': 2, 'kyuzitu': 28}. Best is trial 33 with value: 311660467368.0.\u001b[0m\n"
     ]
    },
    {
     "name": "stdout",
     "output_type": "stream",
     "text": [
      "unko\n",
      "core 18\n",
      "./judge \"./a.out  2 32\" <input/0000.txt >output/0000.txt\n",
      "./judge \"./a.out  2 32\" <input/0000.txt >output/0000.txt\n"
     ]
    },
    {
     "name": "stderr",
     "output_type": "stream",
     "text": [
      "\u001b[32m[I 2022-09-07 19:17:01,277]\u001b[0m Trial 34 finished with value: 311580744867.0 and parameters: {'min_all': 2, 'kyuzitu': 32}. Best is trial 33 with value: 311660467368.0.\u001b[0m\n"
     ]
    },
    {
     "name": "stdout",
     "output_type": "stream",
     "text": [
      "unko\n",
      "core 18\n",
      "./judge \"./a.out  4 9\" <input/0000.txt >output/0000.txt\n",
      "./judge \"./a.out  4 9\" <input/0000.txt >output/0000.txt\n"
     ]
    },
    {
     "name": "stderr",
     "output_type": "stream",
     "text": [
      "\u001b[32m[I 2022-09-07 19:17:13,871]\u001b[0m Trial 35 finished with value: 311157615523.0 and parameters: {'min_all': 4, 'kyuzitu': 9}. Best is trial 33 with value: 311660467368.0.\u001b[0m\n"
     ]
    },
    {
     "name": "stdout",
     "output_type": "stream",
     "text": [
      "unko\n",
      "core 18\n",
      "./judge \"./a.out  1 42\" <input/0000.txt >output/0000.txt\n",
      "./judge \"./a.out  1 42\" <input/0000.txt >output/0000.txt\n"
     ]
    },
    {
     "name": "stderr",
     "output_type": "stream",
     "text": [
      "\u001b[32m[I 2022-09-07 19:17:26,542]\u001b[0m Trial 36 finished with value: 311580744867.0 and parameters: {'min_all': 1, 'kyuzitu': 42}. Best is trial 33 with value: 311660467368.0.\u001b[0m\n"
     ]
    },
    {
     "name": "stdout",
     "output_type": "stream",
     "text": [
      "unko\n",
      "core 18\n",
      "./judge \"./a.out  5 25\" <input/0000.txt >output/0000.txt\n",
      "./judge \"./a.out  5 25\" <input/0000.txt >output/0000.txt\n"
     ]
    },
    {
     "name": "stderr",
     "output_type": "stream",
     "text": [
      "\u001b[32m[I 2022-09-07 19:17:38,558]\u001b[0m Trial 37 finished with value: 311596038257.0 and parameters: {'min_all': 5, 'kyuzitu': 25}. Best is trial 33 with value: 311660467368.0.\u001b[0m\n"
     ]
    },
    {
     "name": "stdout",
     "output_type": "stream",
     "text": [
      "unko\n",
      "core 18\n",
      "./judge \"./a.out  0 10\" <input/0000.txt >output/0000.txt\n",
      "./judge \"./a.out  0 10\" <input/0000.txt >output/0000.txt\n"
     ]
    },
    {
     "name": "stderr",
     "output_type": "stream",
     "text": [
      "\u001b[32m[I 2022-09-07 19:17:50,646]\u001b[0m Trial 38 finished with value: 311458609466.0 and parameters: {'min_all': 0, 'kyuzitu': 10}. Best is trial 33 with value: 311660467368.0.\u001b[0m\n"
     ]
    },
    {
     "name": "stdout",
     "output_type": "stream",
     "text": [
      "unko\n",
      "core 18\n",
      "./judge \"./a.out  4 84\" <input/0000.txt >output/0000.txt\n",
      "./judge \"./a.out  4 84\" <input/0000.txt >output/0000.txt\n"
     ]
    },
    {
     "name": "stderr",
     "output_type": "stream",
     "text": [
      "\u001b[32m[I 2022-09-07 19:18:02,719]\u001b[0m Trial 39 finished with value: 311600248245.0 and parameters: {'min_all': 4, 'kyuzitu': 84}. Best is trial 33 with value: 311660467368.0.\u001b[0m\n"
     ]
    },
    {
     "name": "stdout",
     "output_type": "stream",
     "text": [
      "unko\n",
      "core 18\n",
      "./judge \"./a.out  2 52\" <input/0000.txt >output/0000.txt\n",
      "./judge \"./a.out  2 52\" <input/0000.txt >output/0000.txt\n"
     ]
    },
    {
     "name": "stderr",
     "output_type": "stream",
     "text": [
      "\u001b[32m[I 2022-09-07 19:18:15,015]\u001b[0m Trial 40 finished with value: 311580744867.0 and parameters: {'min_all': 2, 'kyuzitu': 52}. Best is trial 33 with value: 311660467368.0.\u001b[0m\n"
     ]
    },
    {
     "name": "stdout",
     "output_type": "stream",
     "text": [
      "unko\n",
      "core 18\n",
      "./judge \"./a.out  3 21\" <input/0000.txt >output/0000.txt\n",
      "./judge \"./a.out  3 21\" <input/0000.txt >output/0000.txt\n"
     ]
    },
    {
     "name": "stderr",
     "output_type": "stream",
     "text": [
      "\u001b[32m[I 2022-09-07 19:18:27,358]\u001b[0m Trial 41 finished with value: 311552749656.0 and parameters: {'min_all': 3, 'kyuzitu': 21}. Best is trial 33 with value: 311660467368.0.\u001b[0m\n"
     ]
    },
    {
     "name": "stdout",
     "output_type": "stream",
     "text": [
      "unko\n",
      "core 18\n",
      "./judge \"./a.out  3 29\" <input/0000.txt >output/0000.txt\n",
      "./judge \"./a.out  3 29\" <input/0000.txt >output/0000.txt\n"
     ]
    },
    {
     "name": "stderr",
     "output_type": "stream",
     "text": [
      "\u001b[32m[I 2022-09-07 19:18:39,957]\u001b[0m Trial 42 finished with value: 311660467368.0 and parameters: {'min_all': 3, 'kyuzitu': 29}. Best is trial 33 with value: 311660467368.0.\u001b[0m\n"
     ]
    },
    {
     "name": "stdout",
     "output_type": "stream",
     "text": [
      "unko\n",
      "core 18\n",
      "./judge \"./a.out  3 28\" <input/0000.txt >output/0000.txt\n",
      "./judge \"./a.out  3 28\" <input/0000.txt >output/0000.txt\n"
     ]
    },
    {
     "name": "stderr",
     "output_type": "stream",
     "text": [
      "\u001b[32m[I 2022-09-07 19:18:52,080]\u001b[0m Trial 43 finished with value: 311660467368.0 and parameters: {'min_all': 3, 'kyuzitu': 28}. Best is trial 33 with value: 311660467368.0.\u001b[0m\n"
     ]
    },
    {
     "name": "stdout",
     "output_type": "stream",
     "text": [
      "unko\n",
      "core 18\n",
      "./judge \"./a.out  3 32\" <input/0000.txt >output/0000.txt\n",
      "./judge \"./a.out  3 32\" <input/0000.txt >output/0000.txt\n"
     ]
    },
    {
     "name": "stderr",
     "output_type": "stream",
     "text": [
      "\u001b[32m[I 2022-09-07 19:19:04,382]\u001b[0m Trial 44 finished with value: 311580744867.0 and parameters: {'min_all': 3, 'kyuzitu': 32}. Best is trial 33 with value: 311660467368.0.\u001b[0m\n"
     ]
    },
    {
     "name": "stdout",
     "output_type": "stream",
     "text": [
      "unko\n",
      "core 18\n",
      "./judge \"./a.out  4 27\" <input/0000.txt >output/0000.txt\n",
      "./judge \"./a.out  4 27\" <input/0000.txt >output/0000.txt\n"
     ]
    },
    {
     "name": "stderr",
     "output_type": "stream",
     "text": [
      "\u001b[32m[I 2022-09-07 19:19:16,738]\u001b[0m Trial 45 finished with value: 311677597917.0 and parameters: {'min_all': 4, 'kyuzitu': 27}. Best is trial 45 with value: 311677597917.0.\u001b[0m\n"
     ]
    },
    {
     "name": "stdout",
     "output_type": "stream",
     "text": [
      "unko\n",
      "core 18\n",
      "./judge \"./a.out  4 35\" <input/0000.txt >output/0000.txt\n",
      "./judge \"./a.out  4 35\" <input/0000.txt >output/0000.txt\n"
     ]
    },
    {
     "name": "stderr",
     "output_type": "stream",
     "text": [
      "\u001b[32m[I 2022-09-07 19:19:29,002]\u001b[0m Trial 46 finished with value: 311600248245.0 and parameters: {'min_all': 4, 'kyuzitu': 35}. Best is trial 45 with value: 311677597917.0.\u001b[0m\n"
     ]
    },
    {
     "name": "stdout",
     "output_type": "stream",
     "text": [
      "unko\n",
      "core 18\n",
      "./judge \"./a.out  5 40\" <input/0000.txt >output/0000.txt\n",
      "./judge \"./a.out  5 40\" <input/0000.txt >output/0000.txt\n"
     ]
    },
    {
     "name": "stderr",
     "output_type": "stream",
     "text": [
      "\u001b[32m[I 2022-09-07 19:19:40,769]\u001b[0m Trial 47 finished with value: 311598411086.0 and parameters: {'min_all': 5, 'kyuzitu': 40}. Best is trial 45 with value: 311677597917.0.\u001b[0m\n"
     ]
    },
    {
     "name": "stdout",
     "output_type": "stream",
     "text": [
      "unko\n",
      "core 18\n",
      "./judge \"./a.out  6 27\" <input/0000.txt >output/0000.txt\n",
      "./judge \"./a.out  6 27\" <input/0000.txt >output/0000.txt\n"
     ]
    },
    {
     "name": "stderr",
     "output_type": "stream",
     "text": [
      "\u001b[32m[I 2022-09-07 19:19:52,553]\u001b[0m Trial 48 finished with value: 311418094130.0 and parameters: {'min_all': 6, 'kyuzitu': 27}. Best is trial 45 with value: 311677597917.0.\u001b[0m\n"
     ]
    },
    {
     "name": "stdout",
     "output_type": "stream",
     "text": [
      "unko\n",
      "core 18\n",
      "./judge \"./a.out  4 46\" <input/0000.txt >output/0000.txt\n",
      "./judge \"./a.out  4 46\" <input/0000.txt >output/0000.txt\n"
     ]
    },
    {
     "name": "stderr",
     "output_type": "stream",
     "text": [
      "\u001b[32m[I 2022-09-07 19:20:04,294]\u001b[0m Trial 49 finished with value: 311600248245.0 and parameters: {'min_all': 4, 'kyuzitu': 46}. Best is trial 45 with value: 311677597917.0.\u001b[0m\n"
     ]
    },
    {
     "name": "stdout",
     "output_type": "stream",
     "text": [
      "unko\n",
      "core 18\n",
      "./judge \"./a.out  3 14\" <input/0000.txt >output/0000.txt\n",
      "./judge \"./a.out  3 14\" <input/0000.txt >output/0000.txt\n"
     ]
    },
    {
     "name": "stderr",
     "output_type": "stream",
     "text": [
      "\u001b[32m[I 2022-09-07 19:20:16,412]\u001b[0m Trial 50 finished with value: 311458609466.0 and parameters: {'min_all': 3, 'kyuzitu': 14}. Best is trial 45 with value: 311677597917.0.\u001b[0m\n"
     ]
    },
    {
     "name": "stdout",
     "output_type": "stream",
     "text": [
      "unko\n",
      "core 18\n",
      "./judge \"./a.out  2 28\" <input/0000.txt >output/0000.txt\n",
      "./judge \"./a.out  2 28\" <input/0000.txt >output/0000.txt\n"
     ]
    },
    {
     "name": "stderr",
     "output_type": "stream",
     "text": [
      "\u001b[32m[I 2022-09-07 19:20:28,759]\u001b[0m Trial 51 finished with value: 311660467368.0 and parameters: {'min_all': 2, 'kyuzitu': 28}. Best is trial 45 with value: 311677597917.0.\u001b[0m\n"
     ]
    },
    {
     "name": "stdout",
     "output_type": "stream",
     "text": [
      "unko\n",
      "core 18\n",
      "./judge \"./a.out  2 29\" <input/0000.txt >output/0000.txt\n",
      "./judge \"./a.out  2 29\" <input/0000.txt >output/0000.txt\n"
     ]
    },
    {
     "name": "stderr",
     "output_type": "stream",
     "text": [
      "\u001b[32m[I 2022-09-07 19:20:40,760]\u001b[0m Trial 52 finished with value: 311660467368.0 and parameters: {'min_all': 2, 'kyuzitu': 29}. Best is trial 45 with value: 311677597917.0.\u001b[0m\n"
     ]
    },
    {
     "name": "stdout",
     "output_type": "stream",
     "text": [
      "unko\n",
      "core 18\n",
      "./judge \"./a.out  3 33\" <input/0000.txt >output/0000.txt\n",
      "./judge \"./a.out  3 33\" <input/0000.txt >output/0000.txt\n"
     ]
    },
    {
     "name": "stderr",
     "output_type": "stream",
     "text": [
      "\u001b[32m[I 2022-09-07 19:20:52,431]\u001b[0m Trial 53 finished with value: 311580744867.0 and parameters: {'min_all': 3, 'kyuzitu': 33}. Best is trial 45 with value: 311677597917.0.\u001b[0m\n"
     ]
    },
    {
     "name": "stdout",
     "output_type": "stream",
     "text": [
      "unko\n",
      "core 18\n",
      "./judge \"./a.out  3 39\" <input/0000.txt >output/0000.txt\n",
      "./judge \"./a.out  3 39\" <input/0000.txt >output/0000.txt\n"
     ]
    },
    {
     "name": "stderr",
     "output_type": "stream",
     "text": [
      "\u001b[32m[I 2022-09-07 19:21:04,151]\u001b[0m Trial 54 finished with value: 311580744867.0 and parameters: {'min_all': 3, 'kyuzitu': 39}. Best is trial 45 with value: 311677597917.0.\u001b[0m\n"
     ]
    },
    {
     "name": "stdout",
     "output_type": "stream",
     "text": [
      "unko\n",
      "core 18\n",
      "./judge \"./a.out  4 20\" <input/0000.txt >output/0000.txt\n",
      "./judge \"./a.out  4 20\" <input/0000.txt >output/0000.txt\n"
     ]
    },
    {
     "name": "stderr",
     "output_type": "stream",
     "text": [
      "\u001b[32m[I 2022-09-07 19:21:15,791]\u001b[0m Trial 55 finished with value: 311555553099.0 and parameters: {'min_all': 4, 'kyuzitu': 20}. Best is trial 45 with value: 311677597917.0.\u001b[0m\n"
     ]
    },
    {
     "name": "stdout",
     "output_type": "stream",
     "text": [
      "unko\n",
      "core 18\n",
      "./judge \"./a.out  2 29\" <input/0000.txt >output/0000.txt\n",
      "./judge \"./a.out  2 29\" <input/0000.txt >output/0000.txt\n"
     ]
    },
    {
     "name": "stderr",
     "output_type": "stream",
     "text": [
      "\u001b[32m[I 2022-09-07 19:21:27,473]\u001b[0m Trial 56 finished with value: 311660467368.0 and parameters: {'min_all': 2, 'kyuzitu': 29}. Best is trial 45 with value: 311677597917.0.\u001b[0m\n"
     ]
    },
    {
     "name": "stdout",
     "output_type": "stream",
     "text": [
      "unko\n",
      "core 18\n",
      "./judge \"./a.out  2 6\" <input/0000.txt >output/0000.txt\n",
      "./judge \"./a.out  2 6\" <input/0000.txt >output/0000.txt\n"
     ]
    },
    {
     "name": "stderr",
     "output_type": "stream",
     "text": [
      "\u001b[32m[I 2022-09-07 19:21:39,219]\u001b[0m Trial 57 finished with value: 309717389063.0 and parameters: {'min_all': 2, 'kyuzitu': 6}. Best is trial 45 with value: 311677597917.0.\u001b[0m\n"
     ]
    },
    {
     "name": "stdout",
     "output_type": "stream",
     "text": [
      "unko\n",
      "core 18\n",
      "./judge \"./a.out  1 50\" <input/0000.txt >output/0000.txt\n",
      "./judge \"./a.out  1 50\" <input/0000.txt >output/0000.txt\n"
     ]
    },
    {
     "name": "stderr",
     "output_type": "stream",
     "text": [
      "\u001b[32m[I 2022-09-07 19:21:51,931]\u001b[0m Trial 58 finished with value: 311580744867.0 and parameters: {'min_all': 1, 'kyuzitu': 50}. Best is trial 45 with value: 311677597917.0.\u001b[0m\n"
     ]
    },
    {
     "name": "stdout",
     "output_type": "stream",
     "text": [
      "unko\n",
      "core 18\n",
      "./judge \"./a.out  2 30\" <input/0000.txt >output/0000.txt\n",
      "./judge \"./a.out  2 30\" <input/0000.txt >output/0000.txt\n"
     ]
    },
    {
     "name": "stderr",
     "output_type": "stream",
     "text": [
      "\u001b[32m[I 2022-09-07 19:22:03,918]\u001b[0m Trial 59 finished with value: 311580744867.0 and parameters: {'min_all': 2, 'kyuzitu': 30}. Best is trial 45 with value: 311677597917.0.\u001b[0m\n"
     ]
    },
    {
     "name": "stdout",
     "output_type": "stream",
     "text": [
      "unko\n",
      "core 18\n",
      "./judge \"./a.out  1 17\" <input/0000.txt >output/0000.txt\n",
      "./judge \"./a.out  1 17\" <input/0000.txt >output/0000.txt\n"
     ]
    },
    {
     "name": "stderr",
     "output_type": "stream",
     "text": [
      "\u001b[32m[I 2022-09-07 19:22:16,067]\u001b[0m Trial 60 finished with value: 311536463314.0 and parameters: {'min_all': 1, 'kyuzitu': 17}. Best is trial 45 with value: 311677597917.0.\u001b[0m\n"
     ]
    },
    {
     "name": "stdout",
     "output_type": "stream",
     "text": [
      "unko\n",
      "core 18\n",
      "./judge \"./a.out  2 28\" <input/0000.txt >output/0000.txt\n",
      "./judge \"./a.out  2 28\" <input/0000.txt >output/0000.txt\n"
     ]
    },
    {
     "name": "stderr",
     "output_type": "stream",
     "text": [
      "\u001b[32m[I 2022-09-07 19:22:28,292]\u001b[0m Trial 61 finished with value: 311660467368.0 and parameters: {'min_all': 2, 'kyuzitu': 28}. Best is trial 45 with value: 311677597917.0.\u001b[0m\n"
     ]
    },
    {
     "name": "stdout",
     "output_type": "stream",
     "text": [
      "unko\n",
      "core 18\n",
      "./judge \"./a.out  2 37\" <input/0000.txt >output/0000.txt\n",
      "./judge \"./a.out  2 37\" <input/0000.txt >output/0000.txt\n"
     ]
    },
    {
     "name": "stderr",
     "output_type": "stream",
     "text": [
      "\u001b[32m[I 2022-09-07 19:22:40,817]\u001b[0m Trial 62 finished with value: 311580744867.0 and parameters: {'min_all': 2, 'kyuzitu': 37}. Best is trial 45 with value: 311677597917.0.\u001b[0m\n"
     ]
    },
    {
     "name": "stdout",
     "output_type": "stream",
     "text": [
      "unko\n",
      "core 18\n",
      "./judge \"./a.out  3 27\" <input/0000.txt >output/0000.txt\n",
      "./judge \"./a.out  3 27\" <input/0000.txt >output/0000.txt\n"
     ]
    },
    {
     "name": "stderr",
     "output_type": "stream",
     "text": [
      "\u001b[32m[I 2022-09-07 19:22:53,356]\u001b[0m Trial 63 finished with value: 311658094539.0 and parameters: {'min_all': 3, 'kyuzitu': 27}. Best is trial 45 with value: 311677597917.0.\u001b[0m\n"
     ]
    },
    {
     "name": "stdout",
     "output_type": "stream",
     "text": [
      "unko\n",
      "core 18\n",
      "./judge \"./a.out  3 22\" <input/0000.txt >output/0000.txt\n",
      "./judge \"./a.out  3 22\" <input/0000.txt >output/0000.txt\n"
     ]
    },
    {
     "name": "stderr",
     "output_type": "stream",
     "text": [
      "\u001b[32m[I 2022-09-07 19:23:05,917]\u001b[0m Trial 64 finished with value: 311603076558.0 and parameters: {'min_all': 3, 'kyuzitu': 22}. Best is trial 45 with value: 311677597917.0.\u001b[0m\n"
     ]
    },
    {
     "name": "stdout",
     "output_type": "stream",
     "text": [
      "unko\n",
      "core 18\n",
      "./judge \"./a.out  3 35\" <input/0000.txt >output/0000.txt\n",
      "./judge \"./a.out  3 35\" <input/0000.txt >output/0000.txt\n"
     ]
    },
    {
     "name": "stderr",
     "output_type": "stream",
     "text": [
      "\u001b[32m[I 2022-09-07 19:23:17,969]\u001b[0m Trial 65 finished with value: 311580744867.0 and parameters: {'min_all': 3, 'kyuzitu': 35}. Best is trial 45 with value: 311677597917.0.\u001b[0m\n"
     ]
    },
    {
     "name": "stdout",
     "output_type": "stream",
     "text": [
      "unko\n",
      "core 18\n",
      "./judge \"./a.out  2 32\" <input/0000.txt >output/0000.txt\n",
      "./judge \"./a.out  2 32\" <input/0000.txt >output/0000.txt\n"
     ]
    },
    {
     "name": "stderr",
     "output_type": "stream",
     "text": [
      "\u001b[32m[I 2022-09-07 19:23:29,980]\u001b[0m Trial 66 finished with value: 311580744867.0 and parameters: {'min_all': 2, 'kyuzitu': 32}. Best is trial 45 with value: 311677597917.0.\u001b[0m\n"
     ]
    },
    {
     "name": "stdout",
     "output_type": "stream",
     "text": [
      "unko\n",
      "core 18\n",
      "./judge \"./a.out  1 19\" <input/0000.txt >output/0000.txt\n",
      "./judge \"./a.out  1 19\" <input/0000.txt >output/0000.txt\n"
     ]
    },
    {
     "name": "stderr",
     "output_type": "stream",
     "text": [
      "\u001b[32m[I 2022-09-07 19:23:41,981]\u001b[0m Trial 67 finished with value: 311559024326.0 and parameters: {'min_all': 1, 'kyuzitu': 19}. Best is trial 45 with value: 311677597917.0.\u001b[0m\n"
     ]
    },
    {
     "name": "stdout",
     "output_type": "stream",
     "text": [
      "unko\n",
      "core 18\n",
      "./judge \"./a.out  9 14\" <input/0000.txt >output/0000.txt\n",
      "./judge \"./a.out  9 14\" <input/0000.txt >output/0000.txt\n"
     ]
    },
    {
     "name": "stderr",
     "output_type": "stream",
     "text": [
      "\u001b[32m[I 2022-09-07 19:23:54,052]\u001b[0m Trial 68 finished with value: 309267845781.0 and parameters: {'min_all': 9, 'kyuzitu': 14}. Best is trial 45 with value: 311677597917.0.\u001b[0m\n"
     ]
    },
    {
     "name": "stdout",
     "output_type": "stream",
     "text": [
      "unko\n",
      "core 18\n",
      "./judge \"./a.out  4 42\" <input/0000.txt >output/0000.txt\n",
      "./judge \"./a.out  4 42\" <input/0000.txt >output/0000.txt\n"
     ]
    },
    {
     "name": "stderr",
     "output_type": "stream",
     "text": [
      "\u001b[32m[I 2022-09-07 19:24:06,462]\u001b[0m Trial 69 finished with value: 311600248245.0 and parameters: {'min_all': 4, 'kyuzitu': 42}. Best is trial 45 with value: 311677597917.0.\u001b[0m\n"
     ]
    },
    {
     "name": "stdout",
     "output_type": "stream",
     "text": [
      "unko\n",
      "core 18\n",
      "./judge \"./a.out  2 30\" <input/0000.txt >output/0000.txt\n",
      "./judge \"./a.out  2 30\" <input/0000.txt >output/0000.txt\n"
     ]
    },
    {
     "name": "stderr",
     "output_type": "stream",
     "text": [
      "\u001b[32m[I 2022-09-07 19:24:18,903]\u001b[0m Trial 70 finished with value: 311580744867.0 and parameters: {'min_all': 2, 'kyuzitu': 30}. Best is trial 45 with value: 311677597917.0.\u001b[0m\n"
     ]
    },
    {
     "name": "stdout",
     "output_type": "stream",
     "text": [
      "unko\n",
      "core 18\n",
      "./judge \"./a.out  2 27\" <input/0000.txt >output/0000.txt\n",
      "./judge \"./a.out  2 27\" <input/0000.txt >output/0000.txt\n"
     ]
    },
    {
     "name": "stderr",
     "output_type": "stream",
     "text": [
      "\u001b[32m[I 2022-09-07 19:24:31,193]\u001b[0m Trial 71 finished with value: 311658094539.0 and parameters: {'min_all': 2, 'kyuzitu': 27}. Best is trial 45 with value: 311677597917.0.\u001b[0m\n"
     ]
    },
    {
     "name": "stdout",
     "output_type": "stream",
     "text": [
      "unko\n",
      "core 18\n",
      "./judge \"./a.out  3 29\" <input/0000.txt >output/0000.txt\n",
      "./judge \"./a.out  3 29\" <input/0000.txt >output/0000.txt\n"
     ]
    },
    {
     "name": "stderr",
     "output_type": "stream",
     "text": [
      "\u001b[32m[I 2022-09-07 19:24:43,489]\u001b[0m Trial 72 finished with value: 311660467368.0 and parameters: {'min_all': 3, 'kyuzitu': 29}. Best is trial 45 with value: 311677597917.0.\u001b[0m\n"
     ]
    },
    {
     "name": "stdout",
     "output_type": "stream",
     "text": [
      "unko\n",
      "core 18\n",
      "./judge \"./a.out  3 24\" <input/0000.txt >output/0000.txt\n",
      "./judge \"./a.out  3 24\" <input/0000.txt >output/0000.txt\n"
     ]
    },
    {
     "name": "stderr",
     "output_type": "stream",
     "text": [
      "\u001b[32m[I 2022-09-07 19:24:55,750]\u001b[0m Trial 73 finished with value: 311658094539.0 and parameters: {'min_all': 3, 'kyuzitu': 24}. Best is trial 45 with value: 311677597917.0.\u001b[0m\n"
     ]
    },
    {
     "name": "stdout",
     "output_type": "stream",
     "text": [
      "unko\n",
      "core 18\n",
      "./judge \"./a.out  3 33\" <input/0000.txt >output/0000.txt\n",
      "./judge \"./a.out  3 33\" <input/0000.txt >output/0000.txt\n"
     ]
    },
    {
     "name": "stderr",
     "output_type": "stream",
     "text": [
      "\u001b[32m[I 2022-09-07 19:25:07,656]\u001b[0m Trial 74 finished with value: 311580744867.0 and parameters: {'min_all': 3, 'kyuzitu': 33}. Best is trial 45 with value: 311677597917.0.\u001b[0m\n"
     ]
    },
    {
     "name": "stdout",
     "output_type": "stream",
     "text": [
      "unko\n",
      "core 18\n",
      "./judge \"./a.out  4 38\" <input/0000.txt >output/0000.txt\n",
      "./judge \"./a.out  4 38\" <input/0000.txt >output/0000.txt\n"
     ]
    },
    {
     "name": "stderr",
     "output_type": "stream",
     "text": [
      "\u001b[32m[I 2022-09-07 19:25:19,506]\u001b[0m Trial 75 finished with value: 311600248245.0 and parameters: {'min_all': 4, 'kyuzitu': 38}. Best is trial 45 with value: 311677597917.0.\u001b[0m\n"
     ]
    },
    {
     "name": "stdout",
     "output_type": "stream",
     "text": [
      "unko\n",
      "core 18\n",
      "./judge \"./a.out  2 28\" <input/0000.txt >output/0000.txt\n",
      "./judge \"./a.out  2 28\" <input/0000.txt >output/0000.txt\n"
     ]
    },
    {
     "name": "stderr",
     "output_type": "stream",
     "text": [
      "\u001b[32m[I 2022-09-07 19:25:31,836]\u001b[0m Trial 76 finished with value: 311660467368.0 and parameters: {'min_all': 2, 'kyuzitu': 28}. Best is trial 45 with value: 311677597917.0.\u001b[0m\n"
     ]
    },
    {
     "name": "stdout",
     "output_type": "stream",
     "text": [
      "unko\n",
      "core 18\n",
      "./judge \"./a.out  2 25\" <input/0000.txt >output/0000.txt\n",
      "./judge \"./a.out  2 25\" <input/0000.txt >output/0000.txt\n"
     ]
    },
    {
     "name": "stderr",
     "output_type": "stream",
     "text": [
      "\u001b[32m[I 2022-09-07 19:25:43,875]\u001b[0m Trial 77 finished with value: 311658094539.0 and parameters: {'min_all': 2, 'kyuzitu': 25}. Best is trial 45 with value: 311677597917.0.\u001b[0m\n"
     ]
    },
    {
     "name": "stdout",
     "output_type": "stream",
     "text": [
      "unko\n",
      "core 18\n",
      "./judge \"./a.out  1 21\" <input/0000.txt >output/0000.txt\n",
      "./judge \"./a.out  1 21\" <input/0000.txt >output/0000.txt\n"
     ]
    },
    {
     "name": "stderr",
     "output_type": "stream",
     "text": [
      "\u001b[32m[I 2022-09-07 19:25:55,951]\u001b[0m Trial 78 finished with value: 311552749656.0 and parameters: {'min_all': 1, 'kyuzitu': 21}. Best is trial 45 with value: 311677597917.0.\u001b[0m\n"
     ]
    },
    {
     "name": "stdout",
     "output_type": "stream",
     "text": [
      "unko\n",
      "core 18\n",
      "./judge \"./a.out  1 33\" <input/0000.txt >output/0000.txt\n",
      "./judge \"./a.out  1 33\" <input/0000.txt >output/0000.txt\n"
     ]
    },
    {
     "name": "stderr",
     "output_type": "stream",
     "text": [
      "\u001b[32m[I 2022-09-07 19:26:07,814]\u001b[0m Trial 79 finished with value: 311580744867.0 and parameters: {'min_all': 1, 'kyuzitu': 33}. Best is trial 45 with value: 311677597917.0.\u001b[0m\n"
     ]
    },
    {
     "name": "stdout",
     "output_type": "stream",
     "text": [
      "unko\n",
      "core 18\n",
      "./judge \"./a.out  2 44\" <input/0000.txt >output/0000.txt\n",
      "./judge \"./a.out  2 44\" <input/0000.txt >output/0000.txt\n"
     ]
    },
    {
     "name": "stderr",
     "output_type": "stream",
     "text": [
      "\u001b[32m[I 2022-09-07 19:26:20,192]\u001b[0m Trial 80 finished with value: 311580744867.0 and parameters: {'min_all': 2, 'kyuzitu': 44}. Best is trial 45 with value: 311677597917.0.\u001b[0m\n"
     ]
    },
    {
     "name": "stdout",
     "output_type": "stream",
     "text": [
      "unko\n",
      "core 18\n",
      "./judge \"./a.out  2 28\" <input/0000.txt >output/0000.txt\n",
      "./judge \"./a.out  2 28\" <input/0000.txt >output/0000.txt\n"
     ]
    },
    {
     "name": "stderr",
     "output_type": "stream",
     "text": [
      "\u001b[32m[I 2022-09-07 19:26:32,308]\u001b[0m Trial 81 finished with value: 311660467368.0 and parameters: {'min_all': 2, 'kyuzitu': 28}. Best is trial 45 with value: 311677597917.0.\u001b[0m\n"
     ]
    },
    {
     "name": "stdout",
     "output_type": "stream",
     "text": [
      "unko\n",
      "core 18\n",
      "./judge \"./a.out  3 29\" <input/0000.txt >output/0000.txt\n",
      "./judge \"./a.out  3 29\" <input/0000.txt >output/0000.txt\n"
     ]
    },
    {
     "name": "stderr",
     "output_type": "stream",
     "text": [
      "\u001b[32m[I 2022-09-07 19:26:44,580]\u001b[0m Trial 82 finished with value: 311660467368.0 and parameters: {'min_all': 3, 'kyuzitu': 29}. Best is trial 45 with value: 311677597917.0.\u001b[0m\n"
     ]
    },
    {
     "name": "stdout",
     "output_type": "stream",
     "text": [
      "unko\n",
      "core 18\n",
      "./judge \"./a.out  4 23\" <input/0000.txt >output/0000.txt\n",
      "./judge \"./a.out  4 23\" <input/0000.txt >output/0000.txt\n"
     ]
    },
    {
     "name": "stderr",
     "output_type": "stream",
     "text": [
      "\u001b[32m[I 2022-09-07 19:26:56,635]\u001b[0m Trial 83 finished with value: 311622579936.0 and parameters: {'min_all': 4, 'kyuzitu': 23}. Best is trial 45 with value: 311677597917.0.\u001b[0m\n"
     ]
    },
    {
     "name": "stdout",
     "output_type": "stream",
     "text": [
      "unko\n",
      "core 18\n",
      "./judge \"./a.out  3 30\" <input/0000.txt >output/0000.txt\n",
      "./judge \"./a.out  3 30\" <input/0000.txt >output/0000.txt\n"
     ]
    },
    {
     "name": "stderr",
     "output_type": "stream",
     "text": [
      "\u001b[32m[I 2022-09-07 19:27:08,900]\u001b[0m Trial 84 finished with value: 311580744867.0 and parameters: {'min_all': 3, 'kyuzitu': 30}. Best is trial 45 with value: 311677597917.0.\u001b[0m\n"
     ]
    },
    {
     "name": "stdout",
     "output_type": "stream",
     "text": [
      "unko\n",
      "core 18\n",
      "./judge \"./a.out  5 35\" <input/0000.txt >output/0000.txt\n",
      "./judge \"./a.out  5 35\" <input/0000.txt >output/0000.txt\n"
     ]
    },
    {
     "name": "stderr",
     "output_type": "stream",
     "text": [
      "\u001b[32m[I 2022-09-07 19:27:21,115]\u001b[0m Trial 85 finished with value: 311598411086.0 and parameters: {'min_all': 5, 'kyuzitu': 35}. Best is trial 45 with value: 311677597917.0.\u001b[0m\n"
     ]
    },
    {
     "name": "stdout",
     "output_type": "stream",
     "text": [
      "unko\n",
      "core 18\n",
      "./judge \"./a.out  2 89\" <input/0000.txt >output/0000.txt\n",
      "./judge \"./a.out  2 89\" <input/0000.txt >output/0000.txt\n"
     ]
    },
    {
     "name": "stderr",
     "output_type": "stream",
     "text": [
      "\u001b[32m[I 2022-09-07 19:27:33,883]\u001b[0m Trial 86 finished with value: 311580744867.0 and parameters: {'min_all': 2, 'kyuzitu': 89}. Best is trial 45 with value: 311677597917.0.\u001b[0m\n"
     ]
    },
    {
     "name": "stdout",
     "output_type": "stream",
     "text": [
      "unko\n",
      "core 18\n",
      "./judge \"./a.out  3 30\" <input/0000.txt >output/0000.txt\n",
      "./judge \"./a.out  3 30\" <input/0000.txt >output/0000.txt\n"
     ]
    },
    {
     "name": "stderr",
     "output_type": "stream",
     "text": [
      "\u001b[32m[I 2022-09-07 19:27:45,980]\u001b[0m Trial 87 finished with value: 311580744867.0 and parameters: {'min_all': 3, 'kyuzitu': 30}. Best is trial 45 with value: 311677597917.0.\u001b[0m\n"
     ]
    },
    {
     "name": "stdout",
     "output_type": "stream",
     "text": [
      "unko\n",
      "core 18\n",
      "./judge \"./a.out  3 26\" <input/0000.txt >output/0000.txt\n",
      "./judge \"./a.out  3 26\" <input/0000.txt >output/0000.txt\n"
     ]
    },
    {
     "name": "stderr",
     "output_type": "stream",
     "text": [
      "\u001b[32m[I 2022-09-07 19:27:58,311]\u001b[0m Trial 88 finished with value: 311658094539.0 and parameters: {'min_all': 3, 'kyuzitu': 26}. Best is trial 45 with value: 311677597917.0.\u001b[0m\n"
     ]
    },
    {
     "name": "stdout",
     "output_type": "stream",
     "text": [
      "unko\n",
      "core 18\n",
      "./judge \"./a.out  0 18\" <input/0000.txt >output/0000.txt\n",
      "./judge \"./a.out  0 18\" <input/0000.txt >output/0000.txt\n"
     ]
    },
    {
     "name": "stderr",
     "output_type": "stream",
     "text": [
      "\u001b[32m[I 2022-09-07 19:28:10,253]\u001b[0m Trial 89 finished with value: 311604310867.0 and parameters: {'min_all': 0, 'kyuzitu': 18}. Best is trial 45 with value: 311677597917.0.\u001b[0m\n"
     ]
    },
    {
     "name": "stdout",
     "output_type": "stream",
     "text": [
      "unko\n",
      "core 18\n",
      "./judge \"./a.out  8 11\" <input/0000.txt >output/0000.txt\n",
      "./judge \"./a.out  8 11\" <input/0000.txt >output/0000.txt\n"
     ]
    },
    {
     "name": "stderr",
     "output_type": "stream",
     "text": [
      "\u001b[32m[I 2022-09-07 19:28:21,920]\u001b[0m Trial 90 finished with value: 308880572301.0 and parameters: {'min_all': 8, 'kyuzitu': 11}. Best is trial 45 with value: 311677597917.0.\u001b[0m\n"
     ]
    },
    {
     "name": "stdout",
     "output_type": "stream",
     "text": [
      "unko\n",
      "core 18\n",
      "./judge \"./a.out  2 28\" <input/0000.txt >output/0000.txt\n",
      "./judge \"./a.out  2 28\" <input/0000.txt >output/0000.txt\n"
     ]
    },
    {
     "name": "stderr",
     "output_type": "stream",
     "text": [
      "\u001b[32m[I 2022-09-07 19:28:33,691]\u001b[0m Trial 91 finished with value: 311660467368.0 and parameters: {'min_all': 2, 'kyuzitu': 28}. Best is trial 45 with value: 311677597917.0.\u001b[0m\n"
     ]
    },
    {
     "name": "stdout",
     "output_type": "stream",
     "text": [
      "unko\n",
      "core 18\n",
      "./judge \"./a.out  1 25\" <input/0000.txt >output/0000.txt\n",
      "./judge \"./a.out  1 25\" <input/0000.txt >output/0000.txt\n"
     ]
    },
    {
     "name": "stderr",
     "output_type": "stream",
     "text": [
      "\u001b[32m[I 2022-09-07 19:28:45,593]\u001b[0m Trial 92 finished with value: 311658094539.0 and parameters: {'min_all': 1, 'kyuzitu': 25}. Best is trial 45 with value: 311677597917.0.\u001b[0m\n"
     ]
    },
    {
     "name": "stdout",
     "output_type": "stream",
     "text": [
      "unko\n",
      "core 18\n",
      "./judge \"./a.out  2 21\" <input/0000.txt >output/0000.txt\n",
      "./judge \"./a.out  2 21\" <input/0000.txt >output/0000.txt\n"
     ]
    },
    {
     "name": "stderr",
     "output_type": "stream",
     "text": [
      "\u001b[32m[I 2022-09-07 19:28:57,451]\u001b[0m Trial 93 finished with value: 311552749656.0 and parameters: {'min_all': 2, 'kyuzitu': 21}. Best is trial 45 with value: 311677597917.0.\u001b[0m\n"
     ]
    },
    {
     "name": "stdout",
     "output_type": "stream",
     "text": [
      "unko\n",
      "core 18\n",
      "./judge \"./a.out  3 34\" <input/0000.txt >output/0000.txt\n",
      "./judge \"./a.out  3 34\" <input/0000.txt >output/0000.txt\n"
     ]
    },
    {
     "name": "stderr",
     "output_type": "stream",
     "text": [
      "\u001b[32m[I 2022-09-07 19:29:09,379]\u001b[0m Trial 94 finished with value: 311580744867.0 and parameters: {'min_all': 3, 'kyuzitu': 34}. Best is trial 45 with value: 311677597917.0.\u001b[0m\n"
     ]
    },
    {
     "name": "stdout",
     "output_type": "stream",
     "text": [
      "unko\n",
      "core 18\n",
      "./judge \"./a.out  4 38\" <input/0000.txt >output/0000.txt\n",
      "./judge \"./a.out  4 38\" <input/0000.txt >output/0000.txt\n"
     ]
    },
    {
     "name": "stderr",
     "output_type": "stream",
     "text": [
      "\u001b[32m[I 2022-09-07 19:29:21,404]\u001b[0m Trial 95 finished with value: 311600248245.0 and parameters: {'min_all': 4, 'kyuzitu': 38}. Best is trial 45 with value: 311677597917.0.\u001b[0m\n"
     ]
    },
    {
     "name": "stdout",
     "output_type": "stream",
     "text": [
      "unko\n",
      "core 18\n",
      "./judge \"./a.out  2 31\" <input/0000.txt >output/0000.txt\n",
      "./judge \"./a.out  2 31\" <input/0000.txt >output/0000.txt\n"
     ]
    },
    {
     "name": "stderr",
     "output_type": "stream",
     "text": [
      "\u001b[32m[I 2022-09-07 19:29:33,309]\u001b[0m Trial 96 finished with value: 311580744867.0 and parameters: {'min_all': 2, 'kyuzitu': 31}. Best is trial 45 with value: 311677597917.0.\u001b[0m\n"
     ]
    },
    {
     "name": "stdout",
     "output_type": "stream",
     "text": [
      "unko\n",
      "core 18\n",
      "./judge \"./a.out  2 28\" <input/0000.txt >output/0000.txt\n",
      "./judge \"./a.out  2 28\" <input/0000.txt >output/0000.txt\n"
     ]
    },
    {
     "name": "stderr",
     "output_type": "stream",
     "text": [
      "\u001b[32m[I 2022-09-07 19:29:45,123]\u001b[0m Trial 97 finished with value: 311660467368.0 and parameters: {'min_all': 2, 'kyuzitu': 28}. Best is trial 45 with value: 311677597917.0.\u001b[0m\n"
     ]
    },
    {
     "name": "stdout",
     "output_type": "stream",
     "text": [
      "unko\n",
      "core 18\n",
      "./judge \"./a.out  1 41\" <input/0000.txt >output/0000.txt\n",
      "./judge \"./a.out  1 41\" <input/0000.txt >output/0000.txt\n"
     ]
    },
    {
     "name": "stderr",
     "output_type": "stream",
     "text": [
      "\u001b[32m[I 2022-09-07 19:29:56,971]\u001b[0m Trial 98 finished with value: 311580744867.0 and parameters: {'min_all': 1, 'kyuzitu': 41}. Best is trial 45 with value: 311677597917.0.\u001b[0m\n"
     ]
    },
    {
     "name": "stdout",
     "output_type": "stream",
     "text": [
      "unko\n",
      "core 18\n",
      "./judge \"./a.out  3 64\" <input/0000.txt >output/0000.txt\n",
      "./judge \"./a.out  3 64\" <input/0000.txt >output/0000.txt\n"
     ]
    },
    {
     "name": "stderr",
     "output_type": "stream",
     "text": [
      "\u001b[32m[I 2022-09-07 19:30:08,797]\u001b[0m Trial 99 finished with value: 311580744867.0 and parameters: {'min_all': 3, 'kyuzitu': 64}. Best is trial 45 with value: 311677597917.0.\u001b[0m\n"
     ]
    }
   ],
   "source": [
    "study=optuna.create_study(direction=\"maximize\")\n",
    "study.optimize(objective,n_trials=100)"
   ]
  },
  {
   "cell_type": "code",
   "execution_count": 7,
   "metadata": {},
   "outputs": [
    {
     "name": "stdout",
     "output_type": "stream",
     "text": [
      "REGIST_PARAM ( min_all , int , 4 )\n",
      "REGIST_PARAM ( kyuzitu , int , 27 )\n"
     ]
    }
   ],
   "source": [
    "output_params(study.best_params)"
   ]
  },
  {
   "cell_type": "code",
   "execution_count": null,
   "metadata": {},
   "outputs": [
    {
     "data": {
      "text/plain": [
       "100.0"
      ]
     },
     "execution_count": 128,
     "metadata": {},
     "output_type": "execute_result"
    }
   ],
   "source": [
    "study.best_value"
   ]
  }
 ],
 "metadata": {
  "kernelspec": {
   "display_name": "Python 3.8.10 64-bit",
   "language": "python",
   "name": "python3"
  },
  "language_info": {
   "codemirror_mode": {
    "name": "ipython",
    "version": 3
   },
   "file_extension": ".py",
   "mimetype": "text/x-python",
   "name": "python",
   "nbconvert_exporter": "python",
   "pygments_lexer": "ipython3",
   "version": "3.8.10"
  },
  "orig_nbformat": 4,
  "vscode": {
   "interpreter": {
    "hash": "916dbcbb3f70747c44a77c7bcd40155683ae19c65e1c03b4aa3499c5328201f1"
   }
  }
 },
 "nbformat": 4,
 "nbformat_minor": 2
}
